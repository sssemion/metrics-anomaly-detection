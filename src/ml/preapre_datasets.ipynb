{
 "cells": [
  {
   "cell_type": "markdown",
   "id": "e214c802-14db-4c0a-a701-468eb6cfbb29",
   "metadata": {},
   "source": [
    "# 1. Amazon petshop\n",
    "*Данные взяты из репозитория [petshop-root-cause-analysis](https://github.com/amazon-science/petshop-root-cause-analysis), распространяемого под лицензией Creative Commons Attribution 4.0 International (CC BY 4.0).*"
   ]
  },
  {
   "cell_type": "code",
   "execution_count": 1,
   "id": "2cb887c9-58a7-40b3-a7c2-df083eee5a8f",
   "metadata": {
    "execution": {
     "iopub.execute_input": "2025-05-29T21:39:06.252205Z",
     "iopub.status.busy": "2025-05-29T21:39:06.251352Z",
     "iopub.status.idle": "2025-05-29T21:39:06.304523Z",
     "shell.execute_reply": "2025-05-29T21:39:06.303681Z",
     "shell.execute_reply.started": "2025-05-29T21:39:06.252162Z"
    },
    "tags": []
   },
   "outputs": [],
   "source": [
    "from itertools import islice\n",
    "from pathlib import Path\n",
    "\n",
    "import matplotlib.pyplot as plt\n",
    "import pandas as pd"
   ]
  },
  {
   "cell_type": "code",
   "execution_count": 63,
   "id": "6a1bb1b0-cd75-4b05-8ddc-5a71ad2ca0fd",
   "metadata": {
    "execution": {
     "iopub.execute_input": "2025-05-07T20:23:57.377758Z",
     "iopub.status.busy": "2025-05-07T20:23:57.376124Z",
     "iopub.status.idle": "2025-05-07T20:23:57.392277Z",
     "shell.execute_reply": "2025-05-07T20:23:57.391193Z",
     "shell.execute_reply.started": "2025-05-07T20:23:57.377692Z"
    },
    "tags": []
   },
   "outputs": [],
   "source": [
    "ALL_FILES = {\n",
    "    'low': Path('/home/jupyter/datasphere/s3/storage/amazon_petshop/low_traffic/noissue/metrics.csv'),\n",
    "    'high': Path('/home/jupyter/datasphere/s3/storage/amazon_petshop/high_traffic/noissue/metrics.csv'),\n",
    "    'temporal': Path('/home/jupyter/datasphere/s3/storage/amazon_petshop/temporal_traffic1/noissue/metrics.csv'),\n",
    "}\n",
    "\n",
    "BASE_PREPARED_PATH = Path('/home/jupyter/datasphere/s3/storage/prepared/amazon_petshop')"
   ]
  },
  {
   "cell_type": "code",
   "execution_count": 64,
   "id": "dd45e46b-f44e-4de2-a317-bd6d5734f28d",
   "metadata": {
    "execution": {
     "iopub.execute_input": "2025-05-07T20:23:57.921445Z",
     "iopub.status.busy": "2025-05-07T20:23:57.919929Z",
     "iopub.status.idle": "2025-05-07T20:23:57.981698Z",
     "shell.execute_reply": "2025-05-07T20:23:57.980573Z",
     "shell.execute_reply.started": "2025-05-07T20:23:57.921389Z"
    },
    "tags": []
   },
   "outputs": [],
   "source": [
    "def calculate_rps(df: pd.DataFrame) -> pd.DataFrame:\n",
    "    \"\"\"Вычисляет RPS для всех колонок с метрикой requests\"\"\"\n",
    "    # Находим все колонки с requests\n",
    "    requests_cols = [col for col in df.columns if col.endswith(' | requests | Sum')]\n",
    "    \n",
    "    for col in requests_cols:\n",
    "        # Вычисляем RPS = diff(value) / diff(time)\n",
    "        delta_seconds = df.index.to_series().diff().dt.total_seconds()\n",
    "        rps = df[col] / delta_seconds\n",
    "        \n",
    "        # Заменяем исходную колонку на RPS\n",
    "        df[col.replace('Sum', 'rps')] = rps\n",
    "        df.drop(col, axis=1, inplace=True)\n",
    "    \n",
    "    return df\n"
   ]
  },
  {
   "cell_type": "code",
   "execution_count": 65,
   "id": "365a53b1-06b5-4115-bfdb-2b07584902e0",
   "metadata": {
    "execution": {
     "iopub.execute_input": "2025-05-07T20:23:59.581438Z",
     "iopub.status.busy": "2025-05-07T20:23:59.580064Z",
     "iopub.status.idle": "2025-05-07T20:23:59.606414Z",
     "shell.execute_reply": "2025-05-07T20:23:59.605175Z",
     "shell.execute_reply.started": "2025-05-07T20:23:59.581384Z"
    },
    "tags": []
   },
   "outputs": [],
   "source": [
    "def load_df(filename: str | Path) -> pd.DataFrame:\n",
    "    \"\"\"Загружает датафрейм из csv, форматирует названия колонок, удаляет лишнее\"\"\"\n",
    "    df = pd.read_csv(filename,\n",
    "                     header=[0, 1, 2, 3],\n",
    "                     )\n",
    "    df = df.loc[:, df.columns.get_level_values(1) != 'availability']\n",
    "    df = df.loc[:, ~(\n",
    "        (df.columns.get_level_values(1) == 'latency') &  # Если метрика latency\n",
    "        (df.columns.get_level_values(2) != 'p99')        # И перцентиль НЕ p99\n",
    "    )]\n",
    "    df.columns = df.columns.map(lambda x: ' | '.join(islice(x, len(x) - 1)))\n",
    "    df = df.rename(columns={df.columns[0]: 'timestamp'})\n",
    "    df['timestamp'] = pd.to_datetime(df['timestamp'], unit='s')\n",
    "    df = df.set_index('timestamp')\n",
    "    return df"
   ]
  },
  {
   "cell_type": "code",
   "execution_count": 66,
   "id": "29543a55-4320-4342-957e-2be1c4aa3bc7",
   "metadata": {
    "execution": {
     "iopub.execute_input": "2025-05-07T20:24:00.437984Z",
     "iopub.status.busy": "2025-05-07T20:24:00.436539Z",
     "iopub.status.idle": "2025-05-07T20:24:02.978914Z",
     "shell.execute_reply": "2025-05-07T20:24:02.977482Z",
     "shell.execute_reply.started": "2025-05-07T20:24:00.437926Z"
    },
    "tags": []
   },
   "outputs": [],
   "source": [
    "for slug, path in ALL_FILES.items():\n",
    "    df = load_df(path)\n",
    "    df = calculate_rps(df)\n",
    "    ts_delta = df.index.to_series().diff()\n",
    "    assert ts_delta.nunique() == 1, 'Нерегулярный ряд'\n",
    "    df.to_csv(BASE_PREPARED_PATH / f'{slug}__{int(df.index.min().timestamp())}-{int(df.index.max().timestamp())}__{int(ts_delta[1].total_seconds())}s.csv', index=False)\n"
   ]
  },
  {
   "cell_type": "markdown",
   "id": "b73e704a-8eb2-4710-88f7-2a41b540d04c",
   "metadata": {},
   "source": [
    "# 2. SURF Machine Metric Dataset [2019-12-29, 2020-08-07]\n",
    "*Данные взяты из датасета [SURF Machine Metric Dataset](https://zenodo.org/records/4459519), распространяемого под лицензией Creative Commons Attribution 4.0 International (CC BY 4.0).*"
   ]
  },
  {
   "cell_type": "code",
   "execution_count": 2,
   "id": "8357d679-89ce-4a9c-bf3c-5933ce127e55",
   "metadata": {
    "execution": {
     "iopub.execute_input": "2025-05-29T21:39:20.355004Z",
     "iopub.status.busy": "2025-05-29T21:39:20.354106Z",
     "iopub.status.idle": "2025-05-29T21:39:20.370817Z",
     "shell.execute_reply": "2025-05-29T21:39:20.370107Z",
     "shell.execute_reply.started": "2025-05-29T21:39:20.354973Z"
    },
    "tags": []
   },
   "outputs": [],
   "source": [
    "ALL_PATHS = {\n",
    "    'memory_usage': Path('/home/jupyter/datasphere/s3/storage/surf_machine_data/processed-surf-dataset/((node_memory_MemTotal%20-%20node_memory_MemFree%20-%20node_memory_Cached)%20%2F%20(node_memory_MemTotal))%20*%20100'),\n",
    "    'swap_usage': Path('/home/jupyter/datasphere/s3/storage/surf_machine_data/processed-surf-dataset/((node_memory_SwapTotal%20-%20node_memory_SwapFree)%20%2F%20(node_memory_SwapTotal))%20*%20100'),\n",
    "    'node_load': Path('/home/jupyter/datasphere/s3/storage/surf_machine_data/processed-surf-dataset/node_load5'),\n",
    "}\n",
    "BASE_PREPARED_PATH = Path('/home/jupyter/datasphere/s3/storage/prepared/surf')"
   ]
  },
  {
   "cell_type": "code",
   "execution_count": 16,
   "id": "84cfcd7b-9f68-4160-ae06-df352b690aac",
   "metadata": {
    "execution": {
     "iopub.execute_input": "2025-05-08T13:35:11.200623Z",
     "iopub.status.busy": "2025-05-08T13:35:11.199441Z",
     "iopub.status.idle": "2025-05-08T13:40:27.102282Z",
     "shell.execute_reply": "2025-05-08T13:40:27.101293Z",
     "shell.execute_reply.started": "2025-05-08T13:35:11.200587Z"
    },
    "tags": []
   },
   "outputs": [],
   "source": [
    "for metric, path in ALL_PATHS.items():\n",
    "    parquet_files = (f for f in path.iterdir() if f.name.endswith('.parquet'))\n",
    "    all_dataframes = []\n",
    "    for file in parquet_files:\n",
    "        df = pd.read_parquet(file)\n",
    "        df.index = pd.to_datetime(df.index, unit='s')\n",
    "        all_dataframes.append(df.resample('5min').mean())\n",
    "\n",
    "    combined_df = pd.concat(all_dataframes).sort_index()\n",
    "    combined_df.to_csv(BASE_PREPARED_PATH / f'{metric}__{int(df.index.min().timestamp())}-{int(df.index.max().timestamp())}__300s.csv', index=False)"
   ]
  },
  {
   "cell_type": "code",
   "execution_count": 3,
   "id": "008a9f9f-d5a5-44c6-b9ec-3d7f68c42b9a",
   "metadata": {
    "execution": {
     "iopub.execute_input": "2025-05-29T21:39:29.210323Z",
     "iopub.status.busy": "2025-05-29T21:39:29.209261Z",
     "iopub.status.idle": "2025-05-29T22:13:45.276853Z",
     "shell.execute_reply": "2025-05-29T22:13:45.275945Z",
     "shell.execute_reply.started": "2025-05-29T21:39:29.210288Z"
    }
   },
   "outputs": [],
   "source": [
    "for metric, path in ALL_PATHS.items():\n",
    "    parquet_files = (f for f in path.iterdir() if f.name.endswith('.parquet'))\n",
    "    all_dataframes = []\n",
    "    for file in parquet_files:\n",
    "        df = pd.read_parquet(file)\n",
    "        df.index = pd.to_datetime(df.index, unit='s')\n",
    "        all_dataframes.append(df)\n",
    "\n",
    "    combined_df = pd.concat(all_dataframes).sort_index()\n",
    "    combined_df.to_csv(BASE_PREPARED_PATH / f'{metric}__{int(df.index.min().timestamp())}-{int(df.index.max().timestamp())}__15s.csv', index=False)"
   ]
  },
  {
   "cell_type": "code",
   "execution_count": 5,
   "id": "6ff9e329-aee3-474a-ac01-f59021396865",
   "metadata": {
    "execution": {
     "iopub.execute_input": "2025-05-29T22:36:13.954691Z",
     "iopub.status.busy": "2025-05-29T22:36:13.953510Z",
     "iopub.status.idle": "2025-05-29T22:48:05.162585Z",
     "shell.execute_reply": "2025-05-29T22:48:05.161560Z",
     "shell.execute_reply.started": "2025-05-29T22:36:13.954648Z"
    },
    "tags": []
   },
   "outputs": [],
   "source": [
    "for metric, path in ALL_PATHS.items():\n",
    "    parquet_files = (f for f in path.iterdir() if f.name.endswith('.parquet'))\n",
    "    all_dataframes = []\n",
    "    for file in parquet_files:\n",
    "        df = pd.read_parquet(file)\n",
    "        df.index = pd.to_datetime(df.index, unit='s')\n",
    "        all_dataframes.append(df.resample('1min').mean())\n",
    "\n",
    "    combined_df = pd.concat(all_dataframes).sort_index()\n",
    "    combined_df.to_csv(BASE_PREPARED_PATH / f'{metric}__{int(df.index.min().timestamp())}-{int(df.index.max().timestamp())}__60s.csv', index=False)"
   ]
  },
  {
   "cell_type": "markdown",
   "id": "b0075f12-952f-4ece-bf1e-9508db27eee2",
   "metadata": {},
   "source": [
    "# Результат\n",
    "1. amazon petshop:\n",
    "    - https://storage.yandexcloud.net/sssemion-diplom-storage/prepared/amazon_petshop/high__1693922400-1694098800__300s.csv\n",
    "    - https://storage.yandexcloud.net/sssemion-diplom-storage/prepared/amazon_petshop/low__1692608400-1692784800__300s.csv\n",
    "    - https://storage.yandexcloud.net/sssemion-diplom-storage/prepared/amazon_petshop/temporal__1682193300-1682688600__300s.csv\n",
    "    \n",
    "1. surf machine metrics:\n",
    "    - https://storage.yandexcloud.net/sssemion-diplom-storage/prepared/surf/memory_usage__1589839200-1589925585__300s.csv\n",
    "    - https://storage.yandexcloud.net/sssemion-diplom-storage/prepared/surf/node_load__1596751200-1596837585__300s.csv\n",
    "    - https://storage.yandexcloud.net/sssemion-diplom-storage/prepared/surf/swap_usage__1589839200-1589925585__300s.csv"
   ]
  }
 ],
 "metadata": {
  "kernelspec": {
   "display_name": "DataSphere Kernel",
   "language": "python",
   "name": "python3"
  },
  "language_info": {
   "codemirror_mode": {
    "name": "ipython",
    "version": 3
   },
   "file_extension": ".py",
   "mimetype": "text/x-python",
   "name": "python",
   "nbconvert_exporter": "python",
   "pygments_lexer": "ipython3",
   "version": "3.10.12"
  }
 },
 "nbformat": 4,
 "nbformat_minor": 5
}
